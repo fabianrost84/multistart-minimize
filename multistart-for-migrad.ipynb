{
 "cells": [
  {
   "cell_type": "markdown",
   "metadata": {},
   "source": [
    "# Multistart for migrad\n",
    "Here, I want to implement a multistart optimization algorithm wrapped around migrad. It should return the best (lowest fval) Minuit object and a sorted list of all fvals.\n",
    "\n",
    "Mental Notes:\n",
    "* If there would be a `sp.optimize.minimize` compatible migrad function, I could make use of my `multistart` function.\n",
    "* Probably I first have to learn about function-sig-label (see iminuit docu)\n",
    "## Implementation"
   ]
  },
  {
   "cell_type": "code",
   "execution_count": 24,
   "metadata": {
    "collapsed": false
   },
   "outputs": [],
   "source": [
    "import scipy as sp\n",
    "import numpy as np\n",
    "from scipy import optimize\n",
    "\n",
    "def multistart(fun, x0min, x0max, N, full_output = False, args=(), method=None, jac=None, hess=None, hessp=None, bounds=None, constraints=(), tol=None, callback=None, options=None):\n",
    "    res_list = sp.empty(N, dtype = object)\n",
    "    for i in range(N):\n",
    "        x0 = sp.random.uniform(x0min, x0max)\n",
    "        # what goes here: res = sp.optimize.minimize(fun, x0, args, method, jac, hess, hessp, bounds, constraints, tol, callback, options)\n",
    "        res_list[i] = res\n",
    "    sort_res_list = res_list[sp.argsort([res.fun for res in res_list])]\n",
    "    if full_output:\n",
    "        return sort_res_list[0], sort_res_list\n",
    "    else:\n",
    "        return sort_res_list[0]"
   ]
  },
  {
   "cell_type": "markdown",
   "metadata": {},
   "source": [
    "## Example"
   ]
  },
  {
   "cell_type": "code",
   "execution_count": 19,
   "metadata": {
    "collapsed": false
   },
   "outputs": [
    {
     "data": {
      "image/png": "[encoded data removed]",
      "text/plain": [
       "<matplotlib.figure.Figure at 0x7f9484db4ad0>"
      ]
     },
     "metadata": {},
     "output_type": "display_data"
    }
   ],
   "source": [
    "import matplotlib.pyplot as plt\n",
    "%matplotlib inline\n",
    "\n",
    "def fun(x):\n",
    "    return - sp.cos(x) + 0.01 * x ** 2 + 1\n",
    "\n",
    "x = sp.linspace(-30, 30)\n",
    "plt.plot(x, fun(x));"
   ]
  }
 ],
 "metadata": {
  "kernelspec": {
   "display_name": "Python 2",
   "language": "python",
   "name": "python2"
  },
  "language_info": {
   "codemirror_mode": {
    "name": "ipython",
    "version": 2
   },
   "file_extension": ".py",
   "mimetype": "text/x-python",
   "name": "python",
   "nbconvert_exporter": "python",
   "pygments_lexer": "ipython2",
   "version": "2.7.11"
  }
 },
 "nbformat": 4,
 "nbformat_minor": 0
}
